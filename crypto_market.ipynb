{
 "cells": [
  {
   "cell_type": "code",
   "execution_count": null,
   "id": "23cffe19",
   "metadata": {},
   "outputs": [],
   "source": [
    "import pandas as pd\n",
    "import numpy as np\n",
    "import pathlib\n",
    "from os import listdir\n",
    "from os.path import isfile, join\n",
    "from pathlib import Path"
   ]
  },
  {
   "cell_type": "code",
   "execution_count": 2,
   "id": "66a9979e",
   "metadata": {},
   "outputs": [],
   "source": [
    "# Get all files in the data folder into a list\n",
    "\n",
    "path = str(pathlib.Path().resolve()) + '\\\\data\\\\'\n",
    "\n",
    "all_files = [f for f in listdir(path) if isfile(join(path, f))]"
   ]
  },
  {
   "cell_type": "code",
   "execution_count": 3,
   "id": "d07a52cc",
   "metadata": {},
   "outputs": [],
   "source": [
    "# Concatenate all files into one dataframe\n",
    "\n",
    "df_list = list()\n",
    "\n",
    "for f in all_files:\n",
    "    data = pd.read_csv(path + f)\n",
    "    data['name'] = f.replace('.csv', '')\n",
    "    df_list.append(data)\n",
    "\n",
    "cryptos = pd.concat(df_list, ignore_index = True)"
   ]
  },
  {
   "cell_type": "code",
   "execution_count": 4,
   "id": "044b116a",
   "metadata": {},
   "outputs": [],
   "source": [
    "# Rename the columns\n",
    "\n",
    "dct_cryptos = {\n",
    " 'name': 'name',\n",
    " 'Start': 'start_date',        \n",
    " 'End': 'end_date',\n",
    " 'Open': 'open_value',\n",
    " 'High': 'max_value',\n",
    " 'Low': 'min_value',\n",
    " 'Close': 'close_value',\n",
    " 'Volume': 'volume',\n",
    " 'Market Cap': 'market_cap'\n",
    "}\n",
    "\n",
    "cryptos.rename(dct_cryptos, axis = 1, inplace = True)\n"
   ]
  },
  {
   "cell_type": "code",
   "execution_count": 5,
   "id": "8f8be364",
   "metadata": {},
   "outputs": [],
   "source": [
    "# Convert the data type of the columns\n",
    "\n",
    "cryptos.start_date = pd.to_datetime(cryptos.start_date)\n",
    "cryptos.end_date = pd.to_datetime(cryptos.end_date)\n",
    "cryptos.name = cryptos.name.astype('str')"
   ]
  },
  {
   "cell_type": "code",
   "execution_count": 6,
   "id": "83c34da2",
   "metadata": {},
   "outputs": [],
   "source": [
    "# Create new column for symbols of coins\n",
    "\n",
    "dct_symbols = { \n",
    " 'avalanche': 'AVAX',\n",
    " 'binance-coin': 'BNB',\n",
    " 'bitcoin': 'BTC',\n",
    " 'cardano': 'ADA',\n",
    " 'chainlink': 'LINK',\n",
    " 'dogecoin': 'DOGE',\n",
    " 'ethereum': 'ETH',\n",
    " 'hedera-hashgraph': 'HBAR',\n",
    " 'monero': 'XMR',\n",
    " 'polkadot': 'DOT',\n",
    " 'ripple': 'XRP',\n",
    " 'solana': 'SOL',\n",
    " 'stellar': 'XLM',\n",
    " 'toncoin': 'TON',\n",
    " 'tron': 'TRX'\n",
    "}\n",
    "\n",
    "cryptos['symbol'] = cryptos['name'].map(dct_symbols)"
   ]
  },
  {
   "cell_type": "code",
   "execution_count": 7,
   "id": "34f7b787",
   "metadata": {},
   "outputs": [],
   "source": [
    "# Rearrange the columns\n",
    "\n",
    "cryptos = cryptos[['name', 'symbol', 'start_date', 'end_date', 'open_value', 'close_value', 'min_value', 'max_value', 'volume', 'market_cap']]"
   ]
  },
  {
   "cell_type": "code",
   "execution_count": 8,
   "id": "3cdee07f",
   "metadata": {},
   "outputs": [],
   "source": [
    "# Capitalize the names\n",
    "\n",
    "cryptos.name = cryptos.name.str.capitalize()"
   ]
  },
  {
   "cell_type": "code",
   "execution_count": null,
   "id": "9d991f43",
   "metadata": {},
   "outputs": [],
   "source": [
    "# Write dataframe to excel\n",
    "\n",
    "cryptos.to_excel('cryptos.xlsx', sheet_name = 'Data')"
   ]
  }
 ],
 "metadata": {
  "kernelspec": {
   "display_name": "Python 3",
   "language": "python",
   "name": "python3"
  },
  "language_info": {
   "codemirror_mode": {
    "name": "ipython",
    "version": 3
   },
   "file_extension": ".py",
   "mimetype": "text/x-python",
   "name": "python",
   "nbconvert_exporter": "python",
   "pygments_lexer": "ipython3",
   "version": "3.11.9"
  }
 },
 "nbformat": 4,
 "nbformat_minor": 5
}
